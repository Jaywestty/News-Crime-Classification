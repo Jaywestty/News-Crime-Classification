{
 "cells": [
  {
   "cell_type": "markdown",
   "id": "057fd4a1",
   "metadata": {},
   "source": [
    "### NEWS CRIME CLASSIFICATION"
   ]
  },
  {
   "cell_type": "markdown",
   "id": "64c7c376",
   "metadata": {},
   "source": [
    "The aim of this project is to classifiy if a new article is crime related or not, the dataset is gotten from kaggle. The project is an NLP task and would be tackled by using traditional NLP techniques such as the TFID, Preprocessing and using the Naives-Bayes, logistic regression and random forest Classification to train the model."
   ]
  },
  {
   "cell_type": "code",
   "execution_count": 10,
   "id": "bb0ece19",
   "metadata": {},
   "outputs": [],
   "source": [
    "#import required libraries\n",
    "import numpy as np\n",
    "import pandas as pd\n",
    "from sklearn.feature_extraction.text import TfidfVectorizer\n",
    "from sklearn.model_selection import train_test_split\n",
    "from sklearn.linear_model import LogisticRegression\n",
    "from sklearn.ensemble import RandomForestClassifier\n",
    "from sklearn.naive_bayes import MultinomialNB\n",
    "from sklearn.metrics import classification_report, confusion_matrix, accuracy_score\n",
    "from sklearn.pipeline import Pipeline"
   ]
  },
  {
   "cell_type": "code",
   "execution_count": 2,
   "id": "0a76f63d",
   "metadata": {},
   "outputs": [
    {
     "data": {
      "text/html": [
       "<div>\n",
       "<style scoped>\n",
       "    .dataframe tbody tr th:only-of-type {\n",
       "        vertical-align: middle;\n",
       "    }\n",
       "\n",
       "    .dataframe tbody tr th {\n",
       "        vertical-align: top;\n",
       "    }\n",
       "\n",
       "    .dataframe thead th {\n",
       "        text-align: right;\n",
       "    }\n",
       "</style>\n",
       "<table border=\"1\" class=\"dataframe\">\n",
       "  <thead>\n",
       "    <tr style=\"text-align: right;\">\n",
       "      <th></th>\n",
       "      <th>title</th>\n",
       "      <th>is_crime_report</th>\n",
       "    </tr>\n",
       "  </thead>\n",
       "  <tbody>\n",
       "    <tr>\n",
       "      <th>0</th>\n",
       "      <td>What's New and Cool in the Fitness Sphere?</td>\n",
       "      <td>0</td>\n",
       "    </tr>\n",
       "    <tr>\n",
       "      <th>1</th>\n",
       "      <td>'Today I Die,' Says Gang Leader Who Killed Sel...</td>\n",
       "      <td>1</td>\n",
       "    </tr>\n",
       "    <tr>\n",
       "      <th>2</th>\n",
       "      <td>Zero Jail Time For Cop Who Assaulted Disabled ...</td>\n",
       "      <td>1</td>\n",
       "    </tr>\n",
       "    <tr>\n",
       "      <th>3</th>\n",
       "      <td>Three Easy Gratitude Lessons</td>\n",
       "      <td>0</td>\n",
       "    </tr>\n",
       "    <tr>\n",
       "      <th>4</th>\n",
       "      <td>Can Change At UVA Make Campuses A Safer Place?</td>\n",
       "      <td>0</td>\n",
       "    </tr>\n",
       "  </tbody>\n",
       "</table>\n",
       "</div>"
      ],
      "text/plain": [
       "                                               title  is_crime_report\n",
       "0         What's New and Cool in the Fitness Sphere?                0\n",
       "1  'Today I Die,' Says Gang Leader Who Killed Sel...                1\n",
       "2  Zero Jail Time For Cop Who Assaulted Disabled ...                1\n",
       "3                       Three Easy Gratitude Lessons                0\n",
       "4     Can Change At UVA Make Campuses A Safer Place?                0"
      ]
     },
     "execution_count": 2,
     "metadata": {},
     "output_type": "execute_result"
    }
   ],
   "source": [
    "#read the dataset\n",
    "df = pd.read_csv('CrimeVsNoCrimeArticles.csv')\n",
    "df.head()"
   ]
  },
  {
   "cell_type": "code",
   "execution_count": 3,
   "id": "99091fed",
   "metadata": {},
   "outputs": [
    {
     "name": "stdout",
     "output_type": "stream",
     "text": [
      "<class 'pandas.core.frame.DataFrame'>\n",
      "RangeIndex: 7124 entries, 0 to 7123\n",
      "Data columns (total 2 columns):\n",
      " #   Column           Non-Null Count  Dtype \n",
      "---  ------           --------------  ----- \n",
      " 0   title            7123 non-null   object\n",
      " 1   is_crime_report  7124 non-null   int64 \n",
      "dtypes: int64(1), object(1)\n",
      "memory usage: 111.4+ KB\n"
     ]
    }
   ],
   "source": [
    "#Check dataset information\n",
    "df.info()"
   ]
  },
  {
   "cell_type": "code",
   "execution_count": 4,
   "id": "e31bce47",
   "metadata": {},
   "outputs": [
    {
     "data": {
      "text/plain": [
       "title              1\n",
       "is_crime_report    0\n",
       "dtype: int64"
      ]
     },
     "execution_count": 4,
     "metadata": {},
     "output_type": "execute_result"
    }
   ],
   "source": [
    "#check for null value\n",
    "df.isnull().sum()"
   ]
  },
  {
   "cell_type": "code",
   "execution_count": 5,
   "id": "35238840",
   "metadata": {},
   "outputs": [
    {
     "data": {
      "text/html": [
       "<div>\n",
       "<style scoped>\n",
       "    .dataframe tbody tr th:only-of-type {\n",
       "        vertical-align: middle;\n",
       "    }\n",
       "\n",
       "    .dataframe tbody tr th {\n",
       "        vertical-align: top;\n",
       "    }\n",
       "\n",
       "    .dataframe thead th {\n",
       "        text-align: right;\n",
       "    }\n",
       "</style>\n",
       "<table border=\"1\" class=\"dataframe\">\n",
       "  <thead>\n",
       "    <tr style=\"text-align: right;\">\n",
       "      <th></th>\n",
       "      <th>title</th>\n",
       "      <th>is_crime_report</th>\n",
       "    </tr>\n",
       "  </thead>\n",
       "  <tbody>\n",
       "    <tr>\n",
       "      <th>0</th>\n",
       "      <td>What's New and Cool in the Fitness Sphere?</td>\n",
       "      <td>0</td>\n",
       "    </tr>\n",
       "    <tr>\n",
       "      <th>1</th>\n",
       "      <td>'Today I Die,' Says Gang Leader Who Killed Sel...</td>\n",
       "      <td>1</td>\n",
       "    </tr>\n",
       "    <tr>\n",
       "      <th>2</th>\n",
       "      <td>Zero Jail Time For Cop Who Assaulted Disabled ...</td>\n",
       "      <td>1</td>\n",
       "    </tr>\n",
       "    <tr>\n",
       "      <th>3</th>\n",
       "      <td>Three Easy Gratitude Lessons</td>\n",
       "      <td>0</td>\n",
       "    </tr>\n",
       "    <tr>\n",
       "      <th>4</th>\n",
       "      <td>Can Change At UVA Make Campuses A Safer Place?</td>\n",
       "      <td>0</td>\n",
       "    </tr>\n",
       "  </tbody>\n",
       "</table>\n",
       "</div>"
      ],
      "text/plain": [
       "                                               title  is_crime_report\n",
       "0         What's New and Cool in the Fitness Sphere?                0\n",
       "1  'Today I Die,' Says Gang Leader Who Killed Sel...                1\n",
       "2  Zero Jail Time For Cop Who Assaulted Disabled ...                1\n",
       "3                       Three Easy Gratitude Lessons                0\n",
       "4     Can Change At UVA Make Campuses A Safer Place?                0"
      ]
     },
     "execution_count": 5,
     "metadata": {},
     "output_type": "execute_result"
    }
   ],
   "source": [
    "#replace null values with a null string\n",
    "df_cl = df.where((pd.notnull(df)), '')\n",
    "df_cl.head()"
   ]
  },
  {
   "cell_type": "code",
   "execution_count": 6,
   "id": "9f3787f9",
   "metadata": {},
   "outputs": [
    {
     "data": {
      "text/plain": [
       "title              0\n",
       "is_crime_report    0\n",
       "dtype: int64"
      ]
     },
     "execution_count": 6,
     "metadata": {},
     "output_type": "execute_result"
    }
   ],
   "source": [
    "#check for null value again\n",
    "df_cl.isnull().sum()"
   ]
  },
  {
   "cell_type": "code",
   "execution_count": 7,
   "id": "c283902c",
   "metadata": {},
   "outputs": [],
   "source": [
    "#seperate into X and y which is or features and Target variables\n",
    "X = df_cl['title']\n",
    "y = df_cl['is_crime_report']\n",
    "\n",
    "#split into Test and Train split\n",
    "X_train, X_test, y_train, y_test = train_test_split(X, y, test_size=0.30, random_state=42)\n"
   ]
  },
  {
   "cell_type": "code",
   "execution_count": 8,
   "id": "66327390",
   "metadata": {},
   "outputs": [],
   "source": [
    "#Feature extraction\n",
    "fe = TfidfVectorizer(min_df=1, stop_words='english', lowercase=True)\n",
    "\n",
    "X_train_features = fe.fit_transform(X_train)\n",
    "X_test_features = fe.transform(X_test)"
   ]
  },
  {
   "cell_type": "code",
   "execution_count": 12,
   "id": "697d8c5f",
   "metadata": {},
   "outputs": [],
   "source": [
    "#train the models\n",
    "\n",
    "#models\n",
    "models = {\n",
    "    'Logistic Regression': LogisticRegression(),\n",
    "    'Random Forest': RandomForestClassifier(n_estimators=100, random_state=42),\n",
    "    'Naives Bayes': MultinomialNB()\n",
    "}\n",
    "\n",
    "#store the results\n",
    "results = {\n",
    "    'Models': [],\n",
    "    'Train_Accuracy': [],\n",
    "    'Test_Accuracy': []\n",
    "}\n",
    "\n",
    "for name, model in models.items():\n",
    "    pipeline = Pipeline([\n",
    "        ('Classifier', model)\n",
    "    ])\n",
    "\n",
    "    #train\n",
    "    pipeline.fit(X_train_features, y_train)\n",
    "\n",
    "    #predict\n",
    "    train_pred = pipeline.predict(X_train_features)\n",
    "    test_pred = pipeline.predict(X_test_features)\n",
    "\n",
    "    #results\n",
    "    train_accuracy = accuracy_score(train_pred, y_train)\n",
    "    test_accuracy = accuracy_score(test_pred, y_test)\n",
    "\n",
    "    #append results\n",
    "    results['Models'].append(name)\n",
    "    results['Train_Accuracy'].append(train_accuracy)\n",
    "    results['Test_Accuracy'].append(test_accuracy)\n"
   ]
  },
  {
   "cell_type": "code",
   "execution_count": 13,
   "id": "3f6c04a4",
   "metadata": {},
   "outputs": [
    {
     "data": {
      "text/html": [
       "<div>\n",
       "<style scoped>\n",
       "    .dataframe tbody tr th:only-of-type {\n",
       "        vertical-align: middle;\n",
       "    }\n",
       "\n",
       "    .dataframe tbody tr th {\n",
       "        vertical-align: top;\n",
       "    }\n",
       "\n",
       "    .dataframe thead th {\n",
       "        text-align: right;\n",
       "    }\n",
       "</style>\n",
       "<table border=\"1\" class=\"dataframe\">\n",
       "  <thead>\n",
       "    <tr style=\"text-align: right;\">\n",
       "      <th></th>\n",
       "      <th>Models</th>\n",
       "      <th>Train_Accuracy</th>\n",
       "      <th>Test_Accuracy</th>\n",
       "    </tr>\n",
       "  </thead>\n",
       "  <tbody>\n",
       "    <tr>\n",
       "      <th>0</th>\n",
       "      <td>Logistic Regression</td>\n",
       "      <td>0.952467</td>\n",
       "      <td>0.894294</td>\n",
       "    </tr>\n",
       "    <tr>\n",
       "      <th>1</th>\n",
       "      <td>Random Forest</td>\n",
       "      <td>1.000000</td>\n",
       "      <td>0.890552</td>\n",
       "    </tr>\n",
       "    <tr>\n",
       "      <th>2</th>\n",
       "      <td>Naives Bayes</td>\n",
       "      <td>0.962495</td>\n",
       "      <td>0.879794</td>\n",
       "    </tr>\n",
       "  </tbody>\n",
       "</table>\n",
       "</div>"
      ],
      "text/plain": [
       "                Models  Train_Accuracy  Test_Accuracy\n",
       "0  Logistic Regression        0.952467       0.894294\n",
       "1        Random Forest        1.000000       0.890552\n",
       "2         Naives Bayes        0.962495       0.879794"
      ]
     },
     "execution_count": 13,
     "metadata": {},
     "output_type": "execute_result"
    }
   ],
   "source": [
    "df_results = pd.DataFrame(results)\n",
    "df_results"
   ]
  },
  {
   "cell_type": "code",
   "execution_count": null,
   "id": "55ec5dc7",
   "metadata": {},
   "outputs": [],
   "source": []
  }
 ],
 "metadata": {
  "kernelspec": {
   "display_name": "ds-nlp-env",
   "language": "python",
   "name": "python3"
  },
  "language_info": {
   "codemirror_mode": {
    "name": "ipython",
    "version": 3
   },
   "file_extension": ".py",
   "mimetype": "text/x-python",
   "name": "python",
   "nbconvert_exporter": "python",
   "pygments_lexer": "ipython3",
   "version": "3.10.18"
  }
 },
 "nbformat": 4,
 "nbformat_minor": 5
}
